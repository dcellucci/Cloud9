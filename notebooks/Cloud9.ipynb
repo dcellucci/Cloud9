{
 "cells": [
  {
   "cell_type": "code",
   "execution_count": 1,
   "metadata": {
    "collapsed": false
   },
   "outputs": [
    {
     "name": "stdout",
     "output_type": "stream",
     "text": [
      "Populating the interactive namespace from numpy and matplotlib\n"
     ]
    }
   ],
   "source": [
    "%pylab inline"
   ]
  },
  {
   "cell_type": "code",
   "execution_count": 82,
   "metadata": {
    "collapsed": true
   },
   "outputs": [],
   "source": [
    "#Relevant Material Properties \n",
    "\n",
    "cfrp_rho = 1550 #kg/m^3\n",
    "cfrp_E = 135e9\n",
    "cfrp_s = 2.5e9\n",
    "\n",
    "helium_lifting_density = 1.292-0.178 #kg/m^3"
   ]
  },
  {
   "cell_type": "markdown",
   "metadata": {},
   "source": [
    "# MILES\n",
    "\n",
    "Digital materials lattices can be made to float by creating an ultra-ultralight lattice (density < 1 kg/m^3), and filling the empty space between the struts with a lifting gas like helium. \n",
    "\n",
    "Assuming pultruded carbon fiber tubes as the struts, injection molded PA66 nodes, 14 micron mylar film as the balloon material, and helium as the lifting gas.\n",
    "\n",
    "For the geometry, we will use a cuboct lattice where the octahedra have spherical balloons. \n",
    "\n",
    "1. Plot per/voxel lift versus length for a range of lengths.\n",
    "2. Find slenderness ratio for a cellular solids beam\n"
   ]
  },
  {
   "cell_type": "markdown",
   "metadata": {},
   "source": [
    "## Designing a Heirarchical Airship Structure\n",
    "\n",
    "1. Find the critical slenderness ratio $t/L$ for a given material\n",
    "2. Find the required density of the strut to produce the desired lattice density at the given ratio.\n",
    "\n",
    "### 1. What is the critical slenderness ratio for a cellular solids\n",
    "\n",
    "When is tensile load equal to compressive load?\n",
    "\n",
    "Compressive failure occurs loosely during Euler buckling. \n",
    "\n",
    "$$\n",
    "0.7\\pi^2 \\frac{EI}{L^2}\n",
    "$$\n",
    "\n",
    "Tensile failure occurs when tensile load equals yield strength\n",
    "\n",
    "$$\n",
    "\\sigma_Y A \n",
    "$$\n",
    "\n",
    "For a square beam, \n",
    "\n",
    "$$\n",
    "I = \\frac{t^4}{12}\n",
    "$$\n",
    "\n",
    "and\n",
    "\n",
    "$$\n",
    "A = t^2\n",
    "$$\n",
    "\n",
    "so therefore\n",
    "\n",
    "$$\n",
    "\\left(\\frac{t}{L}\\right)^2 = \\frac{12}{0.7\\pi^2}\\frac{\\sigma_Y}{E}\n",
    "$$\n",
    "\n",
    "for a cellular solid\n",
    "\n",
    "$$E^* = \\frac{\\rho^*}{\\rho}E$$\n",
    "and\n",
    "$$\\sigma_Y^* = \\frac{\\rho^*}{\\rho}\\sigma_Y$$\n",
    "\n",
    "and so as a result,\n",
    "\n",
    "$$\n",
    "\\left(\\frac{t}{L}\\right)^2 = \\frac{12}{0.7\\pi^2}\\frac{\\sigma_Y^*}{E^*}\n",
    "$$\n",
    "\n",
    "(its the same)\n",
    "\n",
    "#### For Carbon Fiber its..."
   ]
  },
  {
   "cell_type": "code",
   "execution_count": 277,
   "metadata": {
    "collapsed": false
   },
   "outputs": [
    {
     "name": "stdout",
     "output_type": "stream",
     "text": [
      "(t/l)^2 = 0.03217\n",
      "(t/l) = 0.1793\n"
     ]
    }
   ],
   "source": [
    "slend_ratio = 12.0/(0.7*pi*pi)*cfrp_s/cfrp_E\n",
    "print(\"(t/l)^2 = {0:3.4}\".format(slend_ratio))\n",
    "\n",
    "print(\"(t/l) = {0:3.4}\".format(sqrt(slend_ratio)))"
   ]
  },
  {
   "cell_type": "markdown",
   "metadata": {},
   "source": [
    "### 2. \n",
    "\n",
    "What is the minimum relative density from the slenderness ratio? For cuboct.\n",
    "\n",
    "$$\n",
    "\\frac{12}{2\\sqrt{2}}\\left(\\frac{t}{L}\\right)^2 = \\frac{\\rho^*}{\\rho}\n",
    "$$\n",
    "\n",
    "and so for Carbon Fiber it is..."
   ]
  },
  {
   "cell_type": "code",
   "execution_count": 278,
   "metadata": {
    "collapsed": false
   },
   "outputs": [
    {
     "name": "stdout",
     "output_type": "stream",
     "text": [
      "Minimum Relative Density: 0.1365\n"
     ]
    }
   ],
   "source": [
    "print(\"Minimum Relative Density: {0:3.4}\".format(12.0/(2*sqrt(2))*0.03217))"
   ]
  },
  {
   "cell_type": "markdown",
   "metadata": {},
   "source": [
    "### Lattice of Lattices\n",
    "A lattice composed of cellular solids lattices has density $\\rho^{**}$\n",
    "\n",
    "$$\n",
    "\\frac{\\rho^{**}}{\\rho^*} = \\frac{12}{2\\sqrt{2}}\\left(\\frac{t_s}{L_s}\\right)^2\n",
    "$$\n",
    "\n",
    "which is equal to\n",
    "\n",
    "$$\n",
    "\\frac{\\rho^{**}}{\\rho} = \\left(\\frac{12}{2\\sqrt{2}}\\left(\\frac{t_s}{L_s}\\right)^2\\right)^2\n",
    "$$\n",
    "\n",
    "If the lattices are composed of two different relative densities\n",
    "\n",
    "$$\n",
    "\\frac{\\rho^{**}}{\\rho} = \\left(\\frac{12}{2\\sqrt{2}}\\frac{t_s}{L_s}\\frac{t}{L}\\right)^2\n",
    "$$\n"
   ]
  },
  {
   "cell_type": "code",
   "execution_count": 292,
   "metadata": {
    "collapsed": false
   },
   "outputs": [
    {
     "name": "stdout",
     "output_type": "stream",
     "text": [
      "0.0802608681352\n"
     ]
    },
    {
     "data": {
      "text/plain": [
       "0.10212082877809089"
      ]
     },
     "execution_count": 292,
     "metadata": {},
     "output_type": "execute_result"
    }
   ],
   "source": [
    "print (0.25/1420*2*sqrt(2)/12.0)**0.25\n",
    "\n",
    "sqrt(0.25/1420)*2*sqrt(2)/12.0/sqrt(0.0025/0.0762**3/1420*2*sqrt(2)/12.0)"
   ]
  },
  {
   "cell_type": "code",
   "execution_count": null,
   "metadata": {
    "collapsed": true
   },
   "outputs": [],
   "source": []
  },
  {
   "cell_type": "markdown",
   "metadata": {},
   "source": [
    "### Example\n",
    "\n",
    "Using the Yosemite voxels, which have a $t/l$ of 0.0799 \n",
    "\n",
    "If we want to reach a lattice with 0.25 kg/m^3, then how long do the struts in the cuboct of cubocts need to be? $t_s/l_s$ is 0.103. \n",
    "\n"
   ]
  },
  {
   "cell_type": "code",
   "execution_count": 307,
   "metadata": {
    "collapsed": false
   },
   "outputs": [
    {
     "name": "stdout",
     "output_type": "stream",
     "text": [
      "2.99315484463\n",
      "7.77251847698\n"
     ]
    },
    {
     "data": {
      "text/plain": [
       "28076.785229819317"
      ]
     },
     "execution_count": 307,
     "metadata": {},
     "output_type": "execute_result"
    }
   ],
   "source": [
    "num_vox = 22 #voxels\n",
    "pitch = 0.0762 #m/voxel\n",
    "vox_mass = 0.0025 #kg/voxel\n",
    "\n",
    "supervox_mass = (2*2*num_vox*vox_mass)*12+(4*pi*(num_vox*pitch/sqrt(2))**2)*areal_mass\n",
    "lifting_force = 4.0/3.0*pi*(num_vox*pitch/sqrt(2))**3*lifting_density\n",
    "\n",
    "print supervox_mass\n",
    "print lifting_force\n",
    "\n",
    "ussladisp = 78280.8 #m^3\n",
    "\n",
    "(lifting_force-supervox_mass)*ussladisp/(num_vox*pitch*sqrt(2))**3"
   ]
  },
  {
   "cell_type": "code",
   "execution_count": 305,
   "metadata": {
    "collapsed": false
   },
   "outputs": [
    {
     "name": "stdout",
     "output_type": "stream",
     "text": [
      "[ 3.22272322 -3.04500791]\n"
     ]
    },
    {
     "data": {
      "text/plain": [
       "35.355339059327378"
      ]
     },
     "execution_count": 305,
     "metadata": {},
     "output_type": "execute_result"
    }
   ],
   "source": [
    "outd = 5.0\n",
    "ind = 5.0*0.9\n",
    "areal_mass = 0.02 #kg/m^2\n",
    "#(6/sqrt(2)*rho*A*L+1.0/sqrt(2)*pi*(L)**2*areal_mass)/L**3 = den\n",
    "#(6/sqrt(2)*rho*A+1.0/sqrt(2)*pi*L*areal_mass)-den*L**2 = 0\n",
    "lat_rho = 0.25 #kg/m^3\n",
    "\n",
    "print np.roots([-lat_rho,1.0/sqrt(2.0)*pi*areal_mass,6.0/sqrt(2)*cfrp_rho*A])\n",
    "L = sqrt(6.0/sqrt(2)*cfrp_rho*A/lat_rho)\n",
    "L\n",
    "\n",
    "25*sqrt(2)"
   ]
  },
  {
   "cell_type": "code",
   "execution_count": 234,
   "metadata": {
    "collapsed": false
   },
   "outputs": [
    {
     "data": {
      "image/png": "[encoded data removed]",
      "text/plain": [
       "<matplotlib.figure.Figure at 0x11156be90>"
      ]
     },
     "metadata": {},
     "output_type": "display_data"
    },
    {
     "data": {
      "text/plain": [
       "<matplotlib.text.Text at 0x1115a0a10>"
      ]
     },
     "execution_count": 234,
     "metadata": {},
     "output_type": "execute_result"
    },
    {
     "data": {
      "image/png": "[encoded data removed]",
      "text/plain": [
       "<matplotlib.figure.Figure at 0x110e5be50>"
      ]
     },
     "metadata": {},
     "output_type": "display_data"
    }
   ],
   "source": [
    "# Testing Cuboct density\n",
    "\n",
    "colors = [(x/8.0,0.0,0.0) for x in range(8) ]\n",
    "\n",
    "#RockWest Composites current inventory of pultruded rods\n",
    "RW_pult_OD = [0.099,0.201,0.3,0.599,0.5,0.798,0.998,1.199]\n",
    "RW_pult_ID = [0.051,0.099,0.201,0.498,0.3,0.599,0.798,0.991]\n",
    "\n",
    "pult_od = arange(0.1,5.1,4.9/7.0)\n",
    "pult_id = [x*0.9 for x in pult_od]\n",
    "\n",
    "lengths = arange(0.1,2.0,0.01)\n",
    "lengths[:] = [x*198.12/100.0 for x in lengths]\n",
    "\n",
    "buoyantforces = []\n",
    "buckling_loads = []\n",
    "\n",
    "for i in range(len(pult_od)):\n",
    "    tube_od = pult_od[i]/100.0\n",
    "    tube_id = pult_id[i]/100.0\n",
    "    \n",
    "    buoyantforces.append([])\n",
    "    buckling_loads.append([])\n",
    "    for tube_length in lengths:\n",
    "        A = ((tube_od/2.0)**2-(tube_id/2.0)**2)*pi\n",
    "        I = pi/4.0*((tube_od/2.0)**4-(tube_id/2.0)**4)\n",
    "        buckling_load = 0.7*pi*pi*cfrp_E*I/tube_length**2\n",
    "        tensile_load = A*cfrp_s/9.8\n",
    "\n",
    "        lifting_mass = (tube_length*sqrt(2.0))**3*lifting_density\n",
    "        oct_mass = cfrp_rho*A*tube_length*12+12*tube_length**2*0.02\n",
    "\n",
    "        buoyantforces[-1].append((lifting_mass-oct_mass)/6)\n",
    "        buckling_loads[-1].append(buckling_load)\n",
    "        \n",
    "    plot(lengths,buoyantforces[-1],label=\"{0}:{1}\".format(RW_pult_OD[i],RW_pult_ID[i]),c=colors[i])\n",
    "\n",
    "legend(loc=4)\n",
    "yscale('log')\n",
    "ylabel(\"Buoyant Force (N)\")\n",
    "xlabel(\"Tube Length(m)\")\n",
    "show()\n",
    "yscale('log')\n",
    "for i,buckling_load_list in enumerate(buckling_loads):\n",
    "    plot(lengths,buckling_load_list,c=colors[i])\n",
    "xlabel(\"Tube Length (m)\")\n",
    "ylabel(\"Buckling Load (N)\")\n"
   ]
  },
  {
   "cell_type": "code",
   "execution_count": 236,
   "metadata": {
    "collapsed": false
   },
   "outputs": [
    {
     "data": {
      "text/plain": [
       "4.3498391307715538"
      ]
     },
     "execution_count": 236,
     "metadata": {},
     "output_type": "execute_result"
    },
    {
     "data": {
      "image/png": "[encoded data removed]",
      "text/plain": [
       "<matplotlib.figure.Figure at 0x10e8c0910>"
      ]
     },
     "metadata": {},
     "output_type": "display_data"
    }
   ],
   "source": [
    "bf_arr = np.array(buoyantforces)\n",
    "buck_arr = np.array(buckling_loads)\n",
    "dex = 0\n",
    "for i,length in enumerate(lengths):\n",
    "    if length > 3.9 and dex ==0:\n",
    "        dex = i\n",
    "xlabel(\"Tube Outer Diameter (cm)\")\n",
    "ylabel(\"Buoyant Force (N)\",color='b')\n",
    "for tl in gca().get_yticklabels():\n",
    "    tl.set_color('b')\n",
    "plot(RW_pult_OD,bf_arr.T[dex],\"bo\")\n",
    "twinx()\n",
    "ylabel(\"Buckling Load (N)\",color='r')\n",
    "plot(RW_pult_OD,buck_arr.T[dex],\"ro\")\n",
    "for tl in gca().get_yticklabels():\n",
    "    tl.set_color('r')\n",
    "#ylim([-10,250])\n",
    "xlim([0,1.3])\n",
    "\n",
    "title(\"Cuboct Lattice Composed of 1.5m Pultruded CFRP Struts\")\n",
    "\n",
    "bf_arr.T[dex][-1]/6"
   ]
  },
  {
   "cell_type": "code",
   "execution_count": 201,
   "metadata": {
    "collapsed": false
   },
   "outputs": [
    {
     "name": "stdout",
     "output_type": "stream",
     "text": [
      "None\n"
     ]
    }
   ],
   "source": [
    "for rod_od in arange(0.1,10,0.1):\n",
    "    rod_od = rod_od/100.0 #m\n",
    "    for thickness in arange(0.01,0.1,0.001):\n",
    "        rod_id = rod_od - thickness/100.0\n",
    "        if rod_id < 0:\n",
    "            rod_id = 0\n",
    "        for rod_length in [0.25,0.5,1,2]:\n",
    "            A = ((rod_od/2.0)**2-(rod_id/2.0)**2)*pi\n",
    "            I = pi/4.0*((rod_od/2.0)**4-(rod_id/2.0)**4)\n",
    "            \n",
    "            buckling_load = 0.7*pi*pi*cfrp_E*I/rod_length**2/9.8\n",
    "            tensile_load = A*cfrp_s/9.8\n",
    "\n",
    "            lifting_mass = rod_length**3/(6*sqrt(2))*lifting_density\n",
    "            tet_mass = cfrp_rho*A*rod_length*6\n",
    "\n",
    "            if(buckling_load-tensile_load >0 and lifting_mass-tet_mass >0):\n",
    "                print(rod_od*1000, rod_id*1000, rod_length)\n",
    "                \n",
    "print(\"None\")"
   ]
  },
  {
   "cell_type": "code",
   "execution_count": 81,
   "metadata": {
    "collapsed": false
   },
   "outputs": [
    {
     "data": {
      "text/plain": [
       "6.0"
      ]
     },
     "execution_count": 81,
     "metadata": {},
     "output_type": "execute_result"
    }
   ],
   "source": [
    "side_length = 1.0\n",
    "tet_length = side_length/sqrt(2)\n",
    "\n",
    "tet_vol = tet_length**3/(6*sqrt(2))*8\n",
    "oct_vol = sqrt(2)/3.0*tet_length**3\n",
    "side_length**3/oct_vol"
   ]
  },
  {
   "cell_type": "code",
   "execution_count": 185,
   "metadata": {
    "collapsed": false
   },
   "outputs": [
    {
     "data": {
      "text/plain": [
       "26.24671916010499"
      ]
     },
     "execution_count": 185,
     "metadata": {},
     "output_type": "execute_result"
    }
   ],
   "source": [
    "2/(3*25.4/1000)"
   ]
  },
  {
   "cell_type": "code",
   "execution_count": 197,
   "metadata": {
    "collapsed": false
   },
   "outputs": [
    {
     "name": "stdout",
     "output_type": "stream",
     "text": [
      "0.01199\n"
     ]
    },
    {
     "data": {
      "text/plain": [
       "1.3308842055737973"
      ]
     },
     "execution_count": 197,
     "metadata": {},
     "output_type": "execute_result"
    }
   ],
   "source": [
    "4*26*0.0025\n",
    "print tube_od\n",
    "A = ((tube_od/2.0)**2-(tube_id/2.0)**2)*pi\n",
    "cfrp_rho*A*2*12"
   ]
  },
  {
   "cell_type": "code",
   "execution_count": 191,
   "metadata": {
    "collapsed": false
   },
   "outputs": [
    {
     "data": {
      "text/plain": [
       "0.26"
      ]
     },
     "execution_count": 191,
     "metadata": {},
     "output_type": "execute_result"
    }
   ],
   "source": [
    "4*26*0.0025"
   ]
  },
  {
   "cell_type": "code",
   "execution_count": null,
   "metadata": {
    "collapsed": true
   },
   "outputs": [],
   "source": []
  }
 ],
 "metadata": {
  "anaconda-cloud": {},
  "kernelspec": {
   "display_name": "Python 2",
   "language": "python",
   "name": "python2"
  },
  "language_info": {
   "codemirror_mode": {
    "name": "ipython",
    "version": 2
   },
   "file_extension": ".py",
   "mimetype": "text/x-python",
   "name": "python",
   "nbconvert_exporter": "python",
   "pygments_lexer": "ipython2",
   "version": "2.7.9"
  }
 },
 "nbformat": 4,
 "nbformat_minor": 0
}
